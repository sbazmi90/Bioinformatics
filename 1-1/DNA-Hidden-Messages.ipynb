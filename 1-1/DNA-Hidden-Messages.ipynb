{
 "cells": [
  {
   "cell_type": "markdown",
   "id": "c7c51d6f",
   "metadata": {},
   "source": [
    "## Implement PatternCount (reproduced below).\n",
    "     Input: Strings Text and Pattern.\n",
    "     Output: Count(Text, Pattern)."
   ]
  },
  {
   "cell_type": "code",
   "execution_count": null,
   "id": "8e806e54",
   "metadata": {},
   "outputs": [],
   "source": [
    "def PatternCount(text, pattern):\n",
    "    count = 0\n",
    "    for i in range(len(text)-len(pattern)+1):\n",
    "        if text[i:(i+len(pattern))] == pattern:\n",
    "            count += 1\n",
    "    return count"
   ]
  },
  {
   "cell_type": "markdown",
   "id": "ff3168cb",
   "metadata": {},
   "source": [
    "## Solve the Frequent Words Problem.\n",
    "\n",
    "    Input: A string Text and an integer k.\n",
    "    Output: All most frequent k-mers in Text.\n"
   ]
  },
  {
   "cell_type": "code",
   "execution_count": 2,
   "id": "4d5efe49",
   "metadata": {},
   "outputs": [],
   "source": [
    "def FrequentWords(text, k):\n",
    "    counts = dict()\n",
    "    for i in range(len(text)-k+1):\n",
    "        counts[text[i:(i+k)]] = counts.get(text[i:(i+k)], 0) + 1\n",
    "    frequency = max(counts.values())\n",
    "    return [t for t, v in counts.items() if v == frequency]"
   ]
  },
  {
   "cell_type": "markdown",
   "id": "48e2ad6c",
   "metadata": {},
   "source": [
    "## Find the reverse complement of a DNA string.\n",
    "\n",
    "    Input: A DNA string Pattern.\n",
    "    Output: Patternrc , the reverse complement of Pattern.\n"
   ]
  },
  {
   "cell_type": "code",
   "execution_count": 3,
   "id": "d56e7143",
   "metadata": {},
   "outputs": [],
   "source": [
    "def ReverseComplement(seq):\n",
    "    for base in seq:\n",
    "        if base not in 'ATCGatcg':\n",
    "            print(\"Error: NOT a DNA sequence\")\n",
    "            return None\n",
    "    seq1 = 'ATCGTAGCatcgtagc'\n",
    "    seq_dict = { seq1[i]:seq1[i+4] for i in range(16) if i < 4 or 8<=i<12 }\n",
    "    return \"\".join([seq_dict[base] for base in reversed(seq)])"
   ]
  },
  {
   "cell_type": "markdown",
   "id": "c5ef80cb",
   "metadata": {},
   "source": [
    "## Solve the Pattern Matching Problem.\n",
    "\n",
    "    Input: Two strings, Pattern and Genome.\n",
    "    Output: A collection of space-separated integers specifying all starting positions where Pattern appears as a substring of Genome.\n"
   ]
  },
  {
   "cell_type": "code",
   "execution_count": 4,
   "id": "72d9a17d",
   "metadata": {},
   "outputs": [],
   "source": [
    "def PatternMatching(text, pattern):\n",
    "    pos = []\n",
    "    for i in range(len(text)-len(pattern)+1):\n",
    "        #print(i)\n",
    "        if text[i:(i+len(pattern))] == pattern:\n",
    "            pos.append(i)\n",
    "    return pos"
   ]
  },
  {
   "cell_type": "markdown",
   "id": "d7cdfb27",
   "metadata": {},
   "source": [
    "## Solve the Clump Finding Problem (restated below). You will need to make sure that your algorithm is efficient enough to handle a large dataset.\n",
    "\n",
    "Clump Finding Problem: Find patterns forming clumps in a string.\n",
    "\n",
    "    Input: A string Genome, and integers k, L, and t.\n",
    "    Output: All distinct k-mers forming (L, t)-clumps in Genome.\n"
   ]
  },
  {
   "cell_type": "code",
   "execution_count": 5,
   "id": "8fec737d",
   "metadata": {},
   "outputs": [],
   "source": [
    "def ClumpFinding(genome, k, t, L):\n",
    "    counts = dict()\n",
    "    for i in range(L):\n",
    "        text = genome[i:(i+k)]\n",
    "        counts[text] = counts.get(text, 0) + 1\n",
    "    clump = [p for p, v in counts.items() if v >= t]\n",
    "    for i in range(1, len(genome)-L+1):\n",
    "        firstPattern = genome[(i-1):(i-1+k)]\n",
    "        counts[firstPattern] -= 1\n",
    "        lastPattern = genome[(i+L-k):(i+L)]\n",
    "        counts[lastPattern] = counts.get(lastPattern, 0) + 1\n",
    "        if counts[lastPattern] >= t and lastPattern not in clump:\n",
    "            clump.append(lastPattern)\n",
    "    return clump"
   ]
  },
  {
   "cell_type": "code",
   "execution_count": null,
   "id": "e62d7935",
   "metadata": {},
   "outputs": [],
   "source": []
  }
 ],
 "metadata": {
  "kernelspec": {
   "display_name": "Python 3 (ipykernel)",
   "language": "python",
   "name": "python3"
  },
  "language_info": {
   "codemirror_mode": {
    "name": "ipython",
    "version": 3
   },
   "file_extension": ".py",
   "mimetype": "text/x-python",
   "name": "python",
   "nbconvert_exporter": "python",
   "pygments_lexer": "ipython3",
   "version": "3.10.9"
  }
 },
 "nbformat": 4,
 "nbformat_minor": 5
}
