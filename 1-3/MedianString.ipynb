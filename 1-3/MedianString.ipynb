{
 "cells": [
  {
   "cell_type": "markdown",
   "id": "2e942abd",
   "metadata": {},
   "source": [
    "## Implement MedianString.\n",
    "\n",
    "    Input: An integer k, followed by a space-separated collection of strings Dna.\n",
    "    Output: A k-mer Pattern that minimizes d(Pattern, Dna) among all possible choices of k-mers. (If there are multiple such strings Pattern, then you may return any one.)\n"
   ]
  },
  {
   "cell_type": "code",
   "execution_count": 1,
   "id": "1f694d2d",
   "metadata": {},
   "outputs": [],
   "source": [
    "import sys\n",
    "import math"
   ]
  },
  {
   "cell_type": "code",
   "execution_count": 2,
   "id": "6317bf8a",
   "metadata": {},
   "outputs": [],
   "source": [
    "def HammingDistance(seq1, seq2):\n",
    "    return len([i for i in range(len(seq1)) if seq1[i] != seq2[i]])"
   ]
  },
  {
   "cell_type": "code",
   "execution_count": 3,
   "id": "880c3443",
   "metadata": {},
   "outputs": [],
   "source": [
    "def PatternStringDistance(pattern, dna):\n",
    "    k = len(pattern)\n",
    "    distance = 0\n",
    "    for seq in dna:\n",
    "        l = len(seq)\n",
    "        hd = float('inf')\n",
    "        for i in range(l - k +1):\n",
    "            hdCurr = HammingDistance(pattern, seq[i:i+k])\n",
    "            if hd > hdCurr:\n",
    "                hd = hdCurr\n",
    "        distance += hd\n",
    "    return distance"
   ]
  },
  {
   "cell_type": "code",
   "execution_count": 4,
   "id": "03b10c2e",
   "metadata": {},
   "outputs": [],
   "source": [
    "def NumberToPattern(n, k):\n",
    "    p = []\n",
    "    seq1 = '0123ACGT'\n",
    "    seq_dict = { int(seq1[i]):seq1[i+4] for i in range(4) }\n",
    "    for i in range(k):\n",
    "        p.insert(0, seq_dict[n % 4])\n",
    "        n //= 4\n",
    "    return ''.join(p)"
   ]
  },
  {
   "cell_type": "code",
   "execution_count": 5,
   "id": "2290312b",
   "metadata": {},
   "outputs": [],
   "source": [
    "def MedianString(dna, k):\n",
    "    distance = float('inf')\n",
    "    for i in range(4**k):\n",
    "        pattern = NumberToPattern(i, k)\n",
    "        dCurr = PatternStringDistance(pattern, dna)\n",
    "        if distance > dCurr:\n",
    "            distance = dCurr\n",
    "            median = pattern\n",
    "    return median"
   ]
  },
  {
   "cell_type": "code",
   "execution_count": 6,
   "id": "273eab21",
   "metadata": {},
   "outputs": [],
   "source": [
    "def AllMedianString(dna, k):\n",
    "    distance = float('inf')\n",
    "    for i in range(4**k):\n",
    "        pattern = NumberToPattern(i, k)\n",
    "        dCurr = PatternStringDistance(pattern, dna)\n",
    "        if distance > dCurr:\n",
    "            distance = dCurr\n",
    "            median = []\n",
    "            median.append(pattern)\n",
    "        elif distance == dCurr:\n",
    "            median.append(pattern)\n",
    "    return median"
   ]
  },
  {
   "cell_type": "code",
   "execution_count": 13,
   "id": "d8a7c3cc",
   "metadata": {},
   "outputs": [],
   "source": [
    "dna=[\"CCCTAAGTAATGTCCAGTGGTCAACGCATTGTTTGCCACCGT\"\n",
    "\"AGGATACCTTAATGGCAAGCGAGCACCCACTAGAGCCACAAC\"\n",
    "\"ACTTAGTTGCCCAGGTTATGGAACGTGCTCCCCTAATGCACG\"\n",
    "\"CCGAACCTGCTAAGGCAGTGGCTTGCGCAGCCCTAACGTTCT\"\n",
    "\"TATCTGCCCTAAGCAGCCTTTAGCTCCAACGCCTCCAAGGAG\"\n",
    "\"TCCAATAAGAATGTTGCATTGGCGCCATAACGAAGTCTGGTG\"\n",
    "\"CCATAACGTTGACTTTTTCCCATGATGGACACACCGCGGCTC\"\n",
    "\"ACAGACCCATAATTAAGCCACAGATTTATAGCTTCATGTCCC\"\n",
    "\"ATACATCCGTAAACGAGGGGAAGGAATATGAAAGGCCCGTCG\"\n",
    "\"CCCTAAATGCCCCGAGGCGGGTCTGTAGCGTACTTGGCGGAC\"]\n",
    "k=6"
   ]
  },
  {
   "cell_type": "code",
   "execution_count": 15,
   "id": "fe3bb33a",
   "metadata": {},
   "outputs": [
    {
     "data": {
      "text/plain": [
       "'AAACGA'"
      ]
     },
     "execution_count": 15,
     "metadata": {},
     "output_type": "execute_result"
    }
   ],
   "source": [
    "MedianString(dna,k)"
   ]
  },
  {
   "cell_type": "code",
   "execution_count": null,
   "id": "4c0d5a28",
   "metadata": {},
   "outputs": [],
   "source": []
  }
 ],
 "metadata": {
  "kernelspec": {
   "display_name": "Python 3 (ipykernel)",
   "language": "python",
   "name": "python3"
  },
  "language_info": {
   "codemirror_mode": {
    "name": "ipython",
    "version": 3
   },
   "file_extension": ".py",
   "mimetype": "text/x-python",
   "name": "python",
   "nbconvert_exporter": "python",
   "pygments_lexer": "ipython3",
   "version": "3.10.9"
  }
 },
 "nbformat": 4,
 "nbformat_minor": 5
}
