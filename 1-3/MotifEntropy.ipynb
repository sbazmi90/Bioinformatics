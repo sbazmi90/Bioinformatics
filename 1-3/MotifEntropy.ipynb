{
 "cells": [
  {
   "cell_type": "markdown",
   "id": "70658fb1",
   "metadata": {},
   "source": [
    "## Compute the entropy of the NF-κB motif matrix (reproduced below). Your answer should be accurate to within 0.002 of the correct response."
   ]
  },
  {
   "cell_type": "markdown",
   "id": "5a9f3f8a",
   "metadata": {},
   "source": [
    "### \n",
    "TCGGGGGTTTTT\n",
    "CCGGTGACTTAC\n",
    "ACGGGGATTTTC\n",
    "TTGGGGACTTTT\n",
    "AAGGGGACTTCC\n",
    "TTGGGGACTTCC\n",
    "TCGGGGATTCAT\n",
    "TCGGGGATTCCT\n",
    "TAGGGGAACTAC\n",
    "TCGGGTATAACC"
   ]
  },
  {
   "cell_type": "code",
   "execution_count": 3,
   "id": "8ff5820f",
   "metadata": {},
   "outputs": [],
   "source": [
    "import math as mt"
   ]
  },
  {
   "cell_type": "code",
   "execution_count": 9,
   "id": "ae7132f1",
   "metadata": {},
   "outputs": [],
   "source": [
    "def CountMotifPercent(motifs):\n",
    "    \n",
    "    count = {}\n",
    "    columns = []\n",
    "    \n",
    "    for i in range(len(motifs[0])):\n",
    "        columns.append([motif[i] for motif in motifs])\n",
    "    print(motifs)\n",
    "    print(\"\\n\")\n",
    "    for i in range(len(columns)):\n",
    "        count[i] = {'A': columns[i].count('A')/len(columns[i]), 'C': columns[i].count('C')/len(columns[i]),\n",
    "                    'G': columns[i].count('G')/len(columns[i]), 'T': columns[i].count('T')/len(columns[i])}\n",
    "    \n",
    "    return count"
   ]
  },
  {
   "cell_type": "code",
   "execution_count": 10,
   "id": "03f3d9ce",
   "metadata": {},
   "outputs": [],
   "source": [
    "def MotifEntropy(motifs):\n",
    "    \n",
    "    entropy = 0\n",
    "    \n",
    "    percents = CountMotifPercent(motifs)\n",
    "    \n",
    "    for i in range(len(percents)):\n",
    "        for nucleotide in percents[i]:\n",
    "            if percents[i][nucleotide] != 0:\n",
    "                entropy += percents[i][nucleotide] * mt.log2(percents[i][nucleotide])\n",
    "                \n",
    "    return -1*entropy"
   ]
  },
  {
   "cell_type": "code",
   "execution_count": 11,
   "id": "f1b283bb",
   "metadata": {},
   "outputs": [],
   "source": [
    "pattern =[\n",
    "\n",
    "    \"TCGGGGGTTTTT\",\n",
    "\n",
    "    \"CCGGTGACTTAC\",\n",
    "\n",
    "    \"ACGGGGATTTTC\",\n",
    "\n",
    "    \"TTGGGGACTTTT\",\n",
    "\n",
    "    \"AAGGGGACTTCC\",\n",
    "\n",
    "    \"TTGGGGACTTCC\",\n",
    "\n",
    "    \"TCGGGGATTCAT\",\n",
    "\n",
    "    \"TCGGGGATTCCT\",\n",
    "\n",
    "    \"TAGGGGAACTAC\",\n",
    "\n",
    "    \"TCGGGTATAACC\"\n",
    "]"
   ]
  },
  {
   "cell_type": "code",
   "execution_count": 12,
   "id": "4b2b092c",
   "metadata": {},
   "outputs": [
    {
     "name": "stdout",
     "output_type": "stream",
     "text": [
      "['TCGGGGGTTTTT', 'CCGGTGACTTAC', 'ACGGGGATTTTC', 'TTGGGGACTTTT', 'AAGGGGACTTCC', 'TTGGGGACTTCC', 'TCGGGGATTCAT', 'TCGGGGATTCCT', 'TAGGGGAACTAC', 'TCGGGTATAACC']\n",
      "\n",
      "\n"
     ]
    },
    {
     "data": {
      "text/plain": [
       "9.916290005356972"
      ]
     },
     "execution_count": 12,
     "metadata": {},
     "output_type": "execute_result"
    }
   ],
   "source": [
    "MotifEntropy(pattern)"
   ]
  },
  {
   "cell_type": "code",
   "execution_count": null,
   "id": "bb7e3a15",
   "metadata": {},
   "outputs": [],
   "source": []
  }
 ],
 "metadata": {
  "kernelspec": {
   "display_name": "Python 3 (ipykernel)",
   "language": "python",
   "name": "python3"
  },
  "language_info": {
   "codemirror_mode": {
    "name": "ipython",
    "version": 3
   },
   "file_extension": ".py",
   "mimetype": "text/x-python",
   "name": "python",
   "nbconvert_exporter": "python",
   "pygments_lexer": "ipython3",
   "version": "3.10.9"
  }
 },
 "nbformat": 4,
 "nbformat_minor": 5
}
