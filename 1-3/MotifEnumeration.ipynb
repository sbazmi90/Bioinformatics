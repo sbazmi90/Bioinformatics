{
 "cells": [
  {
   "cell_type": "markdown",
   "metadata": {
    "id": "Nv7N4MAjzXtY"
   },
   "source": [
    "A brute force algorithm for motif finding"
   ]
  },
  {
   "cell_type": "markdown",
   "metadata": {
    "id": "BIFhHINBzkoq"
   },
   "source": [
    "**Implanted Motif Problem: Find all (k, d)-motifs in a collection of strings.**\n",
    "\n",
    "    Input: A collection of strings Dna, and integers k and d.\n",
    "    Output: All (k, d)-motifs in Dna"
   ]
  },
  {
   "cell_type": "markdown",
   "metadata": {
    "id": "x5Q_zsGDz9QL"
   },
   "source": [
    "Code Challenge: Implement MotifEnumeration (reproduced below).\n",
    "\n",
    "    Input: Integers k and d, followed by a space-separated collection of strings Dna.\n",
    "    Output: All (k, d)-motifs in Dna.\n"
   ]
  },
  {
   "cell_type": "markdown",
   "metadata": {
    "id": "If58ZiUb0I30"
   },
   "source": [
    "3 1\n",
    "ATTTGGC TGCCTTA CGGTATC GAAAATT\n",
    "\n",
    " Sample Output:\n",
    "\n",
    "ATA ATT GTT TTT"
   ]
  },
  {
   "cell_type": "code",
   "execution_count": 15,
   "metadata": {},
   "outputs": [],
   "source": [
    "import sys\n",
    "def ImmediateNeighbors(pattern):\n",
    "    neighbor = set()\n",
    "    nset = {'A', 'C', 'G', 'T'}\n",
    "    for i in range(len(pattern)):\n",
    "        for n in nset:\n",
    "            neighbor.add(pattern[:i]+n+pattern[i+1:])\n",
    "    return neighbor"
   ]
  },
  {
   "cell_type": "code",
   "execution_count": 16,
   "metadata": {},
   "outputs": [],
   "source": [
    "def HammingDistance(seq1, seq2):\n",
    "    return len([i for i in range(len(seq1)) if seq1[i] != seq2[i]])"
   ]
  },
  {
   "cell_type": "code",
   "execution_count": 17,
   "metadata": {
    "id": "hJOBpCE00AIg"
   },
   "outputs": [],
   "source": [
    "def Neighbors(pattern, d):\n",
    "    if d == 0:\n",
    "        return {pattern}\n",
    "    ineighbor = ImmediateNeighbors(pattern)\n",
    "    neighbor = ineighbor\n",
    "    for j in range(d-1):\n",
    "        for p in ineighbor:\n",
    "            neighbor = neighbor.union(ImmediateNeighbors(p))\n",
    "        ineighbor = neighbor\n",
    "    return neighbor"
   ]
  },
  {
   "cell_type": "code",
   "execution_count": 18,
   "metadata": {
    "id": "fkS6V4RWzXXo"
   },
   "outputs": [],
   "source": [
    "def DoesPatternAppear(pattern, text, d):\n",
    "    k = len(pattern)\n",
    "    l = len(text)\n",
    "    for i in range(l-k+1):\n",
    "        if HammingDistance(pattern, text[i:i+k]) <= d:\n",
    "            return True\n",
    "    return False"
   ]
  },
  {
   "cell_type": "code",
   "execution_count": 19,
   "metadata": {
    "id": "SkXcD5OQzjcq"
   },
   "outputs": [],
   "source": [
    "def MotifEnumeration(Dna, k, d):\n",
    "    patterns = set()\n",
    "    neighbor = set()\n",
    "    text = Dna[0]\n",
    "    for i in range(len(text)-k+1):\n",
    "        n = Neighbors(text[i:i+k], d)\n",
    "        neighbor = neighbor.union(n)\n",
    "    for n in neighbor:\n",
    "        ValidPattern = True\n",
    "        for i in range(1, len(Dna)):\n",
    "            if not DoesPatternAppear(n, Dna[i], d):\n",
    "                ValidPattern = False\n",
    "                break\n",
    "        if ValidPattern:\n",
    "            patterns.add(n)\n",
    "    return patterns     "
   ]
  },
  {
   "cell_type": "code",
   "execution_count": 36,
   "metadata": {
    "id": "rMf9tuljzPXx"
   },
   "outputs": [],
   "source": [
    "Dna = [\"AGGTTCAGCACGTGCACATTGGCAG\",\"TGTTTTCTGCAGTTGTCGATCTGCA\",\"CAGCAGTGATTCAGTCACGTAGAAA\",\"AACGATGTACCGGCAACAAGCCAGC\",\"GTAGACTTCGGGACTTGTAGCAGCA\",\"CCGCAGTTAGTCGTAAGTTAGGGGC\"]\n",
    "k = 5 \n",
    "d = 1"
   ]
  },
  {
   "cell_type": "code",
   "execution_count": 37,
   "metadata": {},
   "outputs": [],
   "source": [
    "p = MotifEnumeration(Dna,k,d)"
   ]
  },
  {
   "cell_type": "code",
   "execution_count": 38,
   "metadata": {},
   "outputs": [
    {
     "name": "stdout",
     "output_type": "stream",
     "text": [
      "GGCAG GCAGC CGGCA CAGCA CTGCA CCGCA\n"
     ]
    }
   ],
   "source": [
    "p = MotifEnumeration(Dna, k, d)\n",
    "print(' '.join(p))"
   ]
  },
  {
   "cell_type": "code",
   "execution_count": null,
   "metadata": {},
   "outputs": [],
   "source": []
  }
 ],
 "metadata": {
  "colab": {
   "provenance": []
  },
  "kernelspec": {
   "display_name": "Python 3 (ipykernel)",
   "language": "python",
   "name": "python3"
  },
  "language_info": {
   "codemirror_mode": {
    "name": "ipython",
    "version": 3
   },
   "file_extension": ".py",
   "mimetype": "text/x-python",
   "name": "python",
   "nbconvert_exporter": "python",
   "pygments_lexer": "ipython3",
   "version": "3.10.9"
  }
 },
 "nbformat": 4,
 "nbformat_minor": 1
}
